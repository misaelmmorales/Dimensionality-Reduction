{
 "cells": [
  {
   "cell_type": "code",
   "execution_count": 4,
   "metadata": {},
   "outputs": [],
   "source": [
    "import os\n",
    "import h5py\n",
    "from time import time\n",
    "from tqdm import tqdm\n",
    "\n",
    "import numpy as np\n",
    "import pandas as pd\n",
    "import matplotlib.pyplot as plt\n",
    "from matplotlib.animation import FuncAnimation\n",
    "\n",
    "from sklearn.decomposition import PCA\n",
    "\n",
    "import pywt\n",
    "import scipy\n",
    "import imageio\n",
    "import scipy.io as sio\n",
    "\n",
    "from PIL import Image\n",
    "from skimage.color import rgb2gray\n",
    "\n",
    "import torch\n",
    "import torch.nn as nn\n",
    "import torch.optim as optim\n",
    "import torch.nn.functional as F\n",
    "from torch.utils.data import DataLoader, Dataset, TensorDataset\n",
    "\n",
    "my_box = dict(boxstyle='round', facecolor='lightgrey', edgecolor='k', alpha=0.5)"
   ]
  },
  {
   "cell_type": "code",
   "execution_count": 5,
   "metadata": {},
   "outputs": [
    {
     "name": "stdout",
     "output_type": "stream",
     "text": [
      "Permeability: (1272, 128, 128)\n",
      "Channels: (500, 128, 128)\n",
      "FWI - Velocity: (30000, 70, 70) | Fault: (54000, 70, 70)\n"
     ]
    }
   ],
   "source": [
    "df_perm = np.rot90(np.load('data/data_1272_128x128.npz')['perm_norm'], k=1, axes=(1,2))\n",
    "print('Permeability: {}'.format(df_perm.shape))\n",
    "np.save('data/datasets/df_perm.npy', df_perm)\n",
    "\n",
    "df_channels = np.moveaxis(np.load('data/MPS_Training_image_and_Realizations_500.npz')['array2'], -1, 0)\n",
    "print('Channels: {}'.format(df_channels.shape))\n",
    "np.save('data/datasets/df_channels.npy', df_channels)\n",
    "\n",
    "df_fwi_vel = np.load('data/datasets/df_fwi_vel.npy').squeeze()\n",
    "df_fwi_fault = np.load('data/datasets/df_fwi_fault.npy').squeeze()\n",
    "print('FWI - Velocity: {} | Fault: {}'.format(df_fwi_vel.shape, df_fwi_fault.shape))\n"
   ]
  },
  {
   "cell_type": "code",
   "execution_count": null,
   "metadata": {},
   "outputs": [],
   "source": []
  }
 ],
 "metadata": {
  "kernelspec": {
   "display_name": "rapids",
   "language": "python",
   "name": "python3"
  },
  "language_info": {
   "codemirror_mode": {
    "name": "ipython",
    "version": 3
   },
   "file_extension": ".py",
   "mimetype": "text/x-python",
   "name": "python",
   "nbconvert_exporter": "python",
   "pygments_lexer": "ipython3",
   "version": "3.12.8"
  }
 },
 "nbformat": 4,
 "nbformat_minor": 2
}
